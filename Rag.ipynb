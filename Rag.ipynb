{
 "cells": [
  {
   "cell_type": "code",
   "execution_count": 0,
   "metadata": {
    "application/vnd.databricks.v1+cell": {
     "cellMetadata": {
      "byteLimit": 2048000,
      "rowLimit": 10000
     },
     "inputWidgets": {},
     "nuid": "07fa98bc-1161-4de9-a582-9499984c9aa1",
     "showTitle": false,
     "title": ""
    }
   },
   "outputs": [
    {
     "output_type": "stream",
     "name": "stdout",
     "output_type": "stream",
     "text": [
      "\u001B[43mNote: you may need to restart the kernel using %restart_python or dbutils.library.restartPython() to use updated packages.\u001B[0m\nCollecting databricks-vectorsearch\n  Downloading databricks_vectorsearch-0.38-py3-none-any.whl (13 kB)\nCollecting databricks-genai-inference\n  Downloading databricks_genai_inference-0.2.3-py3-none-any.whl (17 kB)\nCollecting requests>=2\n  Downloading requests-2.32.3-py3-none-any.whl (64 kB)\n     ━━━━━━━━━━━━━━━━━━━━━━━━━━━━━━━━━━━━━━━━ 64.9/64.9 kB 3.7 MB/s eta 0:00:00\nCollecting mlflow-skinny<3,>=2.11.3\n  Downloading mlflow_skinny-2.13.2-py3-none-any.whl (5.3 MB)\n     ━━━━━━━━━━━━━━━━━━━━━━━━━━━━━━━━━━━━━━━━ 5.3/5.3 MB 32.0 MB/s eta 0:00:00\nCollecting protobuf<5,>=3.12.0\n  Downloading protobuf-4.25.3-cp37-abi3-manylinux2014_x86_64.whl (294 kB)\n     ━━━━━━━━━━━━━━━━━━━━━━━━━━━━━━━━━━━━━━ 294.6/294.6 kB 39.5 MB/s eta 0:00:00\nCollecting deprecation>=2\n  Downloading deprecation-2.1.0-py2.py3-none-any.whl (11 kB)\nCollecting httpx<1,>=0.23.0\n  Downloading httpx-0.27.0-py3-none-any.whl (75 kB)\n     ━━━━━━━━━━━━━━━━━━━━━━━━━━━━━━━━━━━━━━━━ 75.6/75.6 kB 12.8 MB/s eta 0:00:00\nCollecting pyyaml>=5.4.1\n  Downloading PyYAML-6.0.1-cp310-cp310-manylinux_2_17_x86_64.manylinux2014_x86_64.whl (705 kB)\n     ━━━━━━━━━━━━━━━━━━━━━━━━━━━━━━━━━━━━━━ 705.5/705.5 kB 54.9 MB/s eta 0:00:00\nCollecting tenacity==8.2.3\n  Downloading tenacity-8.2.3-py3-none-any.whl (24 kB)\nCollecting pydantic>=2.4.2\n  Downloading pydantic-2.7.3-py3-none-any.whl (409 kB)\n     ━━━━━━━━━━━━━━━━━━━━━━━━━━━━━━━━━━━━━━ 409.6/409.6 kB 49.4 MB/s eta 0:00:00\nCollecting databricks-sdk==0.19.1\n  Downloading databricks_sdk-0.19.1-py3-none-any.whl (447 kB)\n     ━━━━━━━━━━━━━━━━━━━━━━━━━━━━━━━━━━━━━━ 447.8/447.8 kB 32.9 MB/s eta 0:00:00\nCollecting typing-extensions>=4.7.1\n  Downloading typing_extensions-4.12.2-py3-none-any.whl (37 kB)\nCollecting google-auth~=2.0\n  Downloading google_auth-2.30.0-py2.py3-none-any.whl (193 kB)\n     ━━━━━━━━━━━━━━━━━━━━━━━━━━━━━━━━━━━━━━ 193.7/193.7 kB 33.7 MB/s eta 0:00:00\nCollecting packaging\n  Downloading packaging-24.1-py3-none-any.whl (53 kB)\n     ━━━━━━━━━━━━━━━━━━━━━━━━━━━━━━━━━━━━━━━━ 54.0/54.0 kB 9.8 MB/s eta 0:00:00\nCollecting anyio\n  Downloading anyio-4.4.0-py3-none-any.whl (86 kB)\n     ━━━━━━━━━━━━━━━━━━━━━━━━━━━━━━━━━━━━━━━━ 86.8/86.8 kB 17.8 MB/s eta 0:00:00\nCollecting sniffio\n  Downloading sniffio-1.3.1-py3-none-any.whl (10 kB)\nCollecting idna\n  Downloading idna-3.7-py3-none-any.whl (66 kB)\n     ━━━━━━━━━━━━━━━━━━━━━━━━━━━━━━━━━━━━━━━━ 66.8/66.8 kB 11.5 MB/s eta 0:00:00\nCollecting httpcore==1.*\n  Downloading httpcore-1.0.5-py3-none-any.whl (77 kB)\n     ━━━━━━━━━━━━━━━━━━━━━━━━━━━━━━━━━━━━━━━━ 77.9/77.9 kB 11.1 MB/s eta 0:00:00\nCollecting certifi\n  Downloading certifi-2024.6.2-py3-none-any.whl (164 kB)\n     ━━━━━━━━━━━━━━━━━━━━━━━━━━━━━━━━━━━━━━ 164.4/164.4 kB 28.0 MB/s eta 0:00:00\nCollecting h11<0.15,>=0.13\n  Downloading h11-0.14.0-py3-none-any.whl (58 kB)\n     ━━━━━━━━━━━━━━━━━━━━━━━━━━━━━━━━━━━━━━━━ 58.3/58.3 kB 13.0 MB/s eta 0:00:00\nCollecting opentelemetry-sdk<3,>=1.0.0\n  Downloading opentelemetry_sdk-1.25.0-py3-none-any.whl (107 kB)\n     ━━━━━━━━━━━━━━━━━━━━━━━━━━━━━━━━━━━━━━ 107.0/107.0 kB 20.1 MB/s eta 0:00:00\nCollecting cloudpickle<4\n  Downloading cloudpickle-3.0.0-py3-none-any.whl (20 kB)\nCollecting sqlparse<1,>=0.4.0\n  Downloading sqlparse-0.5.0-py3-none-any.whl (43 kB)\n     ━━━━━━━━━━━━━━━━━━━━━━━━━━━━━━━━━━━━━━━━ 44.0/44.0 kB 8.1 MB/s eta 0:00:00\nCollecting pytz<2025\n  Downloading pytz-2024.1-py2.py3-none-any.whl (505 kB)\n     ━━━━━━━━━━━━━━━━━━━━━━━━━━━━━━━━━━━━━━ 505.5/505.5 kB 54.1 MB/s eta 0:00:00\nCollecting opentelemetry-api<3,>=1.0.0\n  Downloading opentelemetry_api-1.25.0-py3-none-any.whl (59 kB)\n     ━━━━━━━━━━━━━━━━━━━━━━━━━━━━━━━━━━━━━━━━ 59.9/59.9 kB 3.4 MB/s eta 0:00:00\nCollecting importlib-metadata!=4.7.0,<8,>=3.7.0\n  Downloading importlib_metadata-7.1.0-py3-none-any.whl (24 kB)\nCollecting cachetools<6,>=5.0.0\n  Downloading cachetools-5.3.3-py3-none-any.whl (9.3 kB)\nCollecting gitpython<4,>=3.1.9\n  Downloading GitPython-3.1.43-py3-none-any.whl (207 kB)\n     ━━━━━━━━━━━━━━━━━━━━━━━━━━━━━━━━━━━━━━ 207.3/207.3 kB 31.6 MB/s eta 0:00:00\nCollecting entrypoints<1\n  Downloading entrypoints-0.4-py3-none-any.whl (5.3 kB)\nCollecting click<9,>=7.0\n  Downloading click-8.1.7-py3-none-any.whl (97 kB)\n     ━━━━━━━━━━━━━━━━━━━━━━━━━━━━━━━━━━━━━━━━ 97.9/97.9 kB 20.2 MB/s eta 0:00:00\nCollecting annotated-types>=0.4.0\n  Downloading annotated_types-0.7.0-py3-none-any.whl (13 kB)\nCollecting pydantic-core==2.18.4\n  Downloading pydantic_core-2.18.4-cp310-cp310-manylinux_2_17_x86_64.manylinux2014_x86_64.whl (2.0 MB)\n     ━━━━━━━━━━━━━━━━━━━━━━━━━━━━━━━━━━━━━━━━ 2.0/2.0 MB 100.9 MB/s eta 0:00:00\nCollecting urllib3<3,>=1.21.1\n  Downloading urllib3-2.2.1-py3-none-any.whl (121 kB)\n     ━━━━━━━━━━━━━━━━━━━━━━━━━━━━━━━━━━━━━━ 121.1/121.1 kB 17.4 MB/s eta 0:00:00\nCollecting charset-normalizer<4,>=2\n  Downloading charset_normalizer-3.3.2-cp310-cp310-manylinux_2_17_x86_64.manylinux2014_x86_64.whl (142 kB)\n     ━━━━━━━━━━━━━━━━━━━━━━━━━━━━━━━━━━━━━━ 142.1/142.1 kB 27.1 MB/s eta 0:00:00\nCollecting gitdb<5,>=4.0.1\n  Downloading gitdb-4.0.11-py3-none-any.whl (62 kB)\n     ━━━━━━━━━━━━━━━━━━━━━━━━━━━━━━━━━━━━━━━━ 62.7/62.7 kB 9.0 MB/s eta 0:00:00\nCollecting rsa<5,>=3.1.4\n  Downloading rsa-4.9-py3-none-any.whl (34 kB)\nCollecting pyasn1-modules>=0.2.1\n  Downloading pyasn1_modules-0.4.0-py3-none-any.whl (181 kB)\n     ━━━━━━━━━━━━━━━━━━━━━━━━━━━━━━━━━━━━━━ 181.2/181.2 kB 29.6 MB/s eta 0:00:00\nCollecting zipp>=0.5\n  Downloading zipp-3.19.2-py3-none-any.whl (9.0 kB)\nCollecting deprecated>=1.2.6\n  Downloading Deprecated-1.2.14-py2.py3-none-any.whl (9.6 kB)\nCollecting opentelemetry-semantic-conventions==0.46b0\n  Downloading opentelemetry_semantic_conventions-0.46b0-py3-none-any.whl (130 kB)\n     ━━━━━━━━━━━━━━━━━━━━━━━━━━━━━━━━━━━━━━ 130.5/130.5 kB 24.9 MB/s eta 0:00:00\nCollecting exceptiongroup>=1.0.2\n  Downloading exceptiongroup-1.2.1-py3-none-any.whl (16 kB)\nCollecting wrapt<2,>=1.10\n  Downloading wrapt-1.16.0-cp310-cp310-manylinux_2_5_x86_64.manylinux1_x86_64.manylinux_2_17_x86_64.manylinux2014_x86_64.whl (80 kB)\n     ━━━━━━━━━━━━━━━━━━━━━━━━━━━━━━━━━━━━━━━━ 80.3/80.3 kB 12.7 MB/s eta 0:00:00\nCollecting smmap<6,>=3.0.1\n  Downloading smmap-5.0.1-py3-none-any.whl (24 kB)\nCollecting pyasn1<0.7.0,>=0.4.6\n  Downloading pyasn1-0.6.0-py2.py3-none-any.whl (85 kB)\n     ━━━━━━━━━━━━━━━━━━━━━━━━━━━━━━━━━━━━━━━━ 85.3/85.3 kB 14.9 MB/s eta 0:00:00\nInstalling collected packages: pytz, zipp, wrapt, urllib3, typing-extensions, tenacity, sqlparse, sniffio, smmap, pyyaml, pyasn1, protobuf, packaging, idna, h11, exceptiongroup, entrypoints, cloudpickle, click, charset-normalizer, certifi, cachetools, annotated-types, rsa, requests, pydantic-core, pyasn1-modules, importlib-metadata, httpcore, gitdb, deprecation, deprecated, anyio, pydantic, opentelemetry-api, httpx, google-auth, gitpython, opentelemetry-semantic-conventions, databricks-sdk, opentelemetry-sdk, databricks-genai-inference, mlflow-skinny, databricks-vectorsearch\n  Attempting uninstall: pytz\n    Found existing installation: pytz 2022.7\n    Not uninstalling pytz at /databricks/python3/lib/python3.10/site-packages, outside environment /local_disk0/.ephemeral_nfs/envs/pythonEnv-fb2ab19e-4900-4d4b-be3d-4d96796366d5\n    Can't uninstall 'pytz'. No files were found to uninstall.\n  Attempting uninstall: zipp\n    Found existing installation: zipp 1.0.0\n    Not uninstalling zipp at /usr/lib/python3/dist-packages, outside environment /local_disk0/.ephemeral_nfs/envs/pythonEnv-fb2ab19e-4900-4d4b-be3d-4d96796366d5\n    Can't uninstall 'zipp'. No files were found to uninstall.\n  Attempting uninstall: urllib3\n    Found existing installation: urllib3 1.26.14\n    Not uninstalling urllib3 at /databricks/python3/lib/python3.10/site-packages, outside environment /local_disk0/.ephemeral_nfs/envs/pythonEnv-fb2ab19e-4900-4d4b-be3d-4d96796366d5\n    Can't uninstall 'urllib3'. No files were found to uninstall.\n  Attempting uninstall: typing-extensions\n    Found existing installation: typing_extensions 4.4.0\n    Not uninstalling typing-extensions at /databricks/python3/lib/python3.10/site-packages, outside environment /local_disk0/.ephemeral_nfs/envs/pythonEnv-fb2ab19e-4900-4d4b-be3d-4d96796366d5\n    Can't uninstall 'typing_extensions'. No files were found to uninstall.\n  Attempting uninstall: tenacity\n    Found existing installation: tenacity 8.1.0\n    Not uninstalling tenacity at /databricks/python3/lib/python3.10/site-packages, outside environment /local_disk0/.ephemeral_nfs/envs/pythonEnv-fb2ab19e-4900-4d4b-be3d-4d96796366d5\n    Can't uninstall 'tenacity'. No files were found to uninstall.\n  Attempting uninstall: sniffio\n    Found existing installation: sniffio 1.2.0\n    Not uninstalling sniffio at /databricks/python3/lib/python3.10/site-packages, outside environment /local_disk0/.ephemeral_nfs/envs/pythonEnv-fb2ab19e-4900-4d4b-be3d-4d96796366d5\n    Can't uninstall 'sniffio'. No files were found to uninstall.\n  Attempting uninstall: pyasn1\n    Found existing installation: pyasn1 0.5.1\n    Not uninstalling pyasn1 at /databricks/python3/lib/python3.10/site-packages, outside environment /local_disk0/.ephemeral_nfs/envs/pythonEnv-fb2ab19e-4900-4d4b-be3d-4d96796366d5\n    Can't uninstall 'pyasn1'. No files were found to uninstall.\n  Attempting uninstall: protobuf\n    Found existing installation: protobuf 4.25.3\n    Not uninstalling protobuf at /databricks/python3/lib/python3.10/site-packages, outside environment /local_disk0/.ephemeral_nfs/envs/pythonEnv-fb2ab19e-4900-4d4b-be3d-4d96796366d5\n    Can't uninstall 'protobuf'. No files were found to uninstall.\n  Attempting uninstall: packaging\n    Found existing installation: packaging 23.2\n    Not uninstalling packaging at /databricks/python3/lib/python3.10/site-packages, outside environment /local_disk0/.ephemeral_nfs/envs/pythonEnv-fb2ab19e-4900-4d4b-be3d-4d96796366d5\n    Can't uninstall 'packaging'. No files were found to uninstall.\n  Attempting uninstall: idna\n    Found existing installation: idna 3.4\n    Not uninstalling idna at /databricks/python3/lib/python3.10/site-packages, outside environment /local_disk0/.ephemeral_nfs/envs/pythonEnv-fb2ab19e-4900-4d4b-be3d-4d96796366d5\n    Can't uninstall 'idna'. No files were found to uninstall.\n  Attempting uninstall: entrypoints\n    Found existing installation: entrypoints 0.4\n    Not uninstalling entrypoints at /databricks/python3/lib/python3.10/site-packages, outside environment /local_disk0/.ephemeral_nfs/envs/pythonEnv-fb2ab19e-4900-4d4b-be3d-4d96796366d5\n    Can't uninstall 'entrypoints'. No files were found to uninstall.\n  Attempting uninstall: click\n    Found existing installation: click 8.0.4\n    Not uninstalling click at /databricks/python3/lib/python3.10/site-packages, outside environment /local_disk0/.ephemeral_nfs/envs/pythonEnv-fb2ab19e-4900-4d4b-be3d-4d96796366d5\n    Can't uninstall 'click'. No files were found to uninstall.\n  Attempting uninstall: charset-normalizer\n    Found existing installation: charset-normalizer 2.0.4\n    Not uninstalling charset-normalizer at /databricks/python3/lib/python3.10/site-packages, outside environment /local_disk0/.ephemeral_nfs/envs/pythonEnv-fb2ab19e-4900-4d4b-be3d-4d96796366d5\n    Can't uninstall 'charset-normalizer'. No files were found to uninstall.\n  Attempting uninstall: certifi\n    Found existing installation: certifi 2022.12.7\n    Not uninstalling certifi at /databricks/python3/lib/python3.10/site-packages, outside environment /local_disk0/.ephemeral_nfs/envs/pythonEnv-fb2ab19e-4900-4d4b-be3d-4d96796366d5\n    Can't uninstall 'certifi'. No files were found to uninstall.\n  Attempting uninstall: cachetools\n    Found existing installation: cachetools 5.3.2\n    Not uninstalling cachetools at /databricks/python3/lib/python3.10/site-packages, outside environment /local_disk0/.ephemeral_nfs/envs/pythonEnv-fb2ab19e-4900-4d4b-be3d-4d96796366d5\n    Can't uninstall 'cachetools'. No files were found to uninstall.\n  Attempting uninstall: rsa\n    Found existing installation: rsa 4.9\n    Not uninstalling rsa at /databricks/python3/lib/python3.10/site-packages, outside environment /local_disk0/.ephemeral_nfs/envs/pythonEnv-fb2ab19e-4900-4d4b-be3d-4d96796366d5\n    Can't uninstall 'rsa'. No files were found to uninstall.\n  Attempting uninstall: requests\n    Found existing installation: requests 2.28.1\n    Not uninstalling requests at /databricks/python3/lib/python3.10/site-packages, outside environment /local_disk0/.ephemeral_nfs/envs/pythonEnv-fb2ab19e-4900-4d4b-be3d-4d96796366d5\n    Can't uninstall 'requests'. No files were found to uninstall.\n  Attempting uninstall: pyasn1-modules\n    Found existing installation: pyasn1-modules 0.3.0\n    Not uninstalling pyasn1-modules at /databricks/python3/lib/python3.10/site-packages, outside environment /local_disk0/.ephemeral_nfs/envs/pythonEnv-fb2ab19e-4900-4d4b-be3d-4d96796366d5\n    Can't uninstall 'pyasn1-modules'. No files were found to uninstall.\n  Attempting uninstall: importlib-metadata\n    Found existing installation: importlib-metadata 4.6.4\n    Not uninstalling importlib-metadata at /usr/lib/python3/dist-packages, outside environment /local_disk0/.ephemeral_nfs/envs/pythonEnv-fb2ab19e-4900-4d4b-be3d-4d96796366d5\n    Can't uninstall 'importlib-metadata'. No files were found to uninstall.\n  Attempting uninstall: anyio\n    Found existing installation: anyio 3.5.0\n    Not uninstalling anyio at /databricks/python3/lib/python3.10/site-packages, outside environment /local_disk0/.ephemeral_nfs/envs/pythonEnv-fb2ab19e-4900-4d4b-be3d-4d96796366d5\n    Can't uninstall 'anyio'. No files were found to uninstall.\n  Attempting uninstall: pydantic\n    Found existing installation: pydantic 1.10.6\n    Not uninstalling pydantic at /databricks/python3/lib/python3.10/site-packages, outside environment /local_disk0/.ephemeral_nfs/envs/pythonEnv-fb2ab19e-4900-4d4b-be3d-4d96796366d5\n    Can't uninstall 'pydantic'. No files were found to uninstall.\n  Attempting uninstall: google-auth\n    Found existing installation: google-auth 2.28.1\n    Not uninstalling google-auth at /databricks/python3/lib/python3.10/site-packages, outside environment /local_disk0/.ephemeral_nfs/envs/pythonEnv-fb2ab19e-4900-4d4b-be3d-4d96796366d5\n    Can't uninstall 'google-auth'. No files were found to uninstall.\n  Attempting uninstall: databricks-sdk\n    Found existing installation: databricks-sdk 0.20.0\n    Not uninstalling databricks-sdk at /databricks/python3/lib/python3.10/site-packages, outside environment /local_disk0/.ephemeral_nfs/envs/pythonEnv-fb2ab19e-4900-4d4b-be3d-4d96796366d5\n    Can't uninstall 'databricks-sdk'. No files were found to uninstall.\nERROR: pip's dependency resolver does not currently take into account all the packages that are installed. This behaviour is the source of the following dependency conflicts.\njupyter-server 1.23.4 requires anyio<4,>=3.1.0, but you have anyio 4.4.0 which is incompatible.\nbotocore 1.27.96 requires urllib3<1.27,>=1.25.4, but you have urllib3 2.2.1 which is incompatible.\nSuccessfully installed annotated-types-0.7.0 anyio-4.4.0 cachetools-5.3.3 certifi-2024.6.2 charset-normalizer-3.3.2 click-8.1.7 cloudpickle-3.0.0 databricks-genai-inference-0.2.3 databricks-sdk-0.19.1 databricks-vectorsearch-0.38 deprecated-1.2.14 deprecation-2.1.0 entrypoints-0.4 exceptiongroup-1.2.1 gitdb-4.0.11 gitpython-3.1.43 google-auth-2.30.0 h11-0.14.0 httpcore-1.0.5 httpx-0.27.0 idna-3.7 importlib-metadata-7.1.0 mlflow-skinny-2.13.2 opentelemetry-api-1.25.0 opentelemetry-sdk-1.25.0 opentelemetry-semantic-conventions-0.46b0 packaging-24.1 protobuf-4.25.3 pyasn1-0.6.0 pyasn1-modules-0.4.0 pydantic-2.7.3 pydantic-core-2.18.4 pytz-2024.1 pyyaml-6.0.1 requests-2.32.3 rsa-4.9 smmap-5.0.1 sniffio-1.3.1 sqlparse-0.5.0 tenacity-8.2.3 typing-extensions-4.12.2 urllib3-2.2.1 wrapt-1.16.0 zipp-3.19.2\n\u001B[43mNote: you may need to restart the kernel using %restart_python or dbutils.library.restartPython() to use updated packages.\u001B[0m\n"
     ]
    }
   ],
   "source": [
    "%pip install --upgrade --force-reinstall databricks-vectorsearch databricks-genai-inference\n",
    "dbutils.library.restartPython()"
   ]
  },
  {
   "cell_type": "code",
   "execution_count": 0,
   "metadata": {
    "application/vnd.databricks.v1+cell": {
     "cellMetadata": {
      "byteLimit": 2048000,
      "rowLimit": 10000
     },
     "inputWidgets": {},
     "nuid": "3a6345f9-4ede-4bb2-90a8-0959229797d5",
     "showTitle": false,
     "title": ""
    }
   },
   "outputs": [],
   "source": [
    "CATALOG = \"workspace\"\n",
    "DB='vs_demo'\n",
    "SOURCE_TABLE_NAME = \"resources\"\n",
    "SOURCE_TABLE_FULLNAME=f\"{CATALOG}.{DB}.{SOURCE_TABLE_NAME}\""
   ]
  },
  {
   "cell_type": "code",
   "execution_count": 0,
   "metadata": {
    "application/vnd.databricks.v1+cell": {
     "cellMetadata": {
      "byteLimit": 2048000,
      "rowLimit": 10000
     },
     "inputWidgets": {},
     "nuid": "d8e80dea-c268-471d-b06a-6eaeac93b921",
     "showTitle": false,
     "title": ""
    }
   },
   "outputs": [
    {
     "output_type": "execute_result",
     "data": {
      "text/plain": [
       "DataFrame[]"
      ]
     },
     "execution_count": 2,
     "metadata": {},
     "output_type": "execute_result"
    }
   ],
   "source": [
    "from pyspark.sql.types import StructType, StructField, StringType, ArrayType, FloatType\n",
    "spark.sql(f\"CREATE SCHEMA IF NOT EXISTS {CATALOG}.{DB}\")\n",
    "spark.sql(\n",
    "    f\"\"\"CREATE TABLE IF NOT EXISTS {SOURCE_TABLE_FULLNAME} (\n",
    "        id STRING,\n",
    "        url STRING,\n",
    "        content STRING\n",
    "    )\n",
    "    USING delta \n",
    "    TBLPROPERTIES ('delta.enableChangeDataFeed' = 'true')\n",
    "\"\"\"\n",
    ")"
   ]
  },
  {
   "cell_type": "code",
   "execution_count": 0,
   "metadata": {
    "application/vnd.databricks.v1+cell": {
     "cellMetadata": {
      "byteLimit": 2048000,
      "rowLimit": 10000
     },
     "inputWidgets": {},
     "nuid": "6052f803-3dea-434a-a888-efedf2a63e76",
     "showTitle": false,
     "title": ""
    }
   },
   "outputs": [
    {
     "output_type": "stream",
     "name": "stdout",
     "output_type": "stream",
     "text": [
      "[NOTICE] Using a notebook authentication token. Recommended for development only. For improved performance, please use Service Principal based authentication. To disable this message, pass disable_notice=True to VectorSearchClient().\n"
     ]
    }
   ],
   "source": [
    "from databricks.vector_search.client import VectorSearchClient\n",
    "vsc = VectorSearchClient()"
   ]
  },
  {
   "cell_type": "code",
   "execution_count": 0,
   "metadata": {
    "application/vnd.databricks.v1+cell": {
     "cellMetadata": {
      "byteLimit": 2048000,
      "rowLimit": 10000
     },
     "inputWidgets": {},
     "nuid": "b88571dd-d2c5-4232-995a-c3e2d5246de4",
     "showTitle": false,
     "title": ""
    }
   },
   "outputs": [
    {
     "output_type": "stream",
     "name": "stdout",
     "output_type": "stream",
     "text": [
      "Endpoint vs_endpoint already exists.\nEndpoint vs_endpoint is ONLINE.\n"
     ]
    }
   ],
   "source": [
    "VS_ENDPOINT_NAME = 'vs_endpoint'\n",
    "\n",
    "if vsc.list_endpoints().get('endpoints') == None or not VS_ENDPOINT_NAME in [endpoint.get('name') for endpoint in vsc.list_endpoints().get('endpoints')]:\n",
    "    print(f\"Creating new Vector Search endpoint named {VS_ENDPOINT_NAME}\")\n",
    "    vsc.create_endpoint(VS_ENDPOINT_NAME)\n",
    "else:\n",
    "    print(f\"Endpoint {VS_ENDPOINT_NAME} already exists.\")\n",
    "\n",
    "vsc.wait_for_endpoint(VS_ENDPOINT_NAME, 600)"
   ]
  },
  {
   "cell_type": "code",
   "execution_count": 0,
   "metadata": {
    "application/vnd.databricks.v1+cell": {
     "cellMetadata": {
      "byteLimit": 2048000,
      "rowLimit": 10000
     },
     "inputWidgets": {},
     "nuid": "ed7e1611-f255-4289-846a-53f2b8a2fc4c",
     "showTitle": false,
     "title": ""
    }
   },
   "outputs": [
    {
     "output_type": "stream",
     "name": "stdout",
     "output_type": "stream",
     "text": [
      "Creating Vector Index...\n"
     ]
    }
   ],
   "source": [
    "VS_INDEX_NAME = 'fm_api_resources_vs_index_2'\n",
    "VS_INDEX_FULLNAME = f\"{CATALOG}.{DB}.{VS_INDEX_NAME}\"\n",
    "\n",
    "if not VS_INDEX_FULLNAME in [index.get(\"url\") for index in vsc.list_indexes(VS_ENDPOINT_NAME).get('vector_indexes', [])]:\n",
    "    try:\n",
    "        # set up an index with managed embeddings\n",
    "        print(\"Creating Vector Index...\")\n",
    "        i = vsc.create_delta_sync_index_and_wait(\n",
    "            endpoint_name=VS_ENDPOINT_NAME,\n",
    "            index_name=VS_INDEX_FULLNAME,\n",
    "            source_table_name=SOURCE_TABLE_FULLNAME,\n",
    "            pipeline_type=\"TRIGGERED\",\n",
    "            primary_key=\"id\",\n",
    "            embedding_source_column=\"content\",\n",
    "            embedding_model_endpoint_name=\"databricks-bge-large-en\"\n",
    "        )\n",
    "    except Exception as e:\n",
    "        if \"INTERNAL_ERROR\" in str(e):\n",
    "            # Check if the index exists after the error occurred\n",
    "            if VS_INDEX_FULLNAME in [index.get(\"url\") for index in vsc.list_indexes(VS_ENDPOINT_NAME).get('vector_indexes', [])]:\n",
    "                print(f\"Index {VS_INDEX_FULLNAME} has been created.\")\n",
    "            else:\n",
    "                raise e\n",
    "        else:\n",
    "            raise e\n",
    "else:\n",
    "    print(f\"Index {VS_INDEX_FULLNAME} already exists.\")"
   ]
  },
  {
   "cell_type": "code",
   "execution_count": 0,
   "metadata": {
    "application/vnd.databricks.v1+cell": {
     "cellMetadata": {
      "byteLimit": 2048000,
      "rowLimit": 10000
     },
     "inputWidgets": {},
     "nuid": "8944e035-2793-4a46-a676-532f57c71e27",
     "showTitle": false,
     "title": ""
    }
   },
   "outputs": [],
   "source": [
    "import json\n",
    "\n",
    "# Specify the path to the JSON file\n",
    "json_file_path = \"./website_contents.json\"\n",
    "\n",
    "# Read the JSON file\n",
    "with open(json_file_path, \"r\") as file:\n",
    "    json_content = file.read()\n",
    "\n",
    "# Parse the JSON content\n",
    "decoder = json.JSONDecoder()\n",
    "json_list, _ = decoder.raw_decode(json_content)\n",
    "\n",
    "# Print the list to verify its content\n",
    "resources = json_list"
   ]
  },
  {
   "cell_type": "code",
   "execution_count": 0,
   "metadata": {
    "application/vnd.databricks.v1+cell": {
     "cellMetadata": {
      "byteLimit": 2048000,
      "rowLimit": 10000
     },
     "inputWidgets": {},
     "nuid": "5784a718-bae8-4e75-ad3d-bad6f9e0e223",
     "showTitle": false,
     "title": ""
    }
   },
   "outputs": [],
   "source": [
    "import re\n",
    "\n",
    "def chunk_text(text, chunk_size, overlap):\n",
    "    words = text.split()\n",
    "    chunks = []\n",
    "    index = 0\n",
    "\n",
    "    while index < len(words):\n",
    "        end = index + chunk_size\n",
    "        while end < len(words) and not re.match(r'.*[.!?]\\s*$', words[end]):\n",
    "            end += 1\n",
    "        chunk = ' '.join(words[index:end+1])\n",
    "        chunks.append(chunk)\n",
    "        index += chunk_size - overlap\n",
    "\n",
    "    return chunks\n",
    "\n",
    "chunks = []\n",
    "\n",
    "for document in resources:\n",
    "    for i, c in enumerate(chunk_text(document[\"content\"], 150, 25)):\n",
    "        chunk = {}\n",
    "        chunk[\"content\"] = c\n",
    "        chunk[\"url\"] = document[\"url\"]\n",
    "        chunk[\"id\"] = document[\"url\"] + \"_\" + str(i)\n",
    "\n",
    "        chunks.append(chunk)"
   ]
  },
  {
   "cell_type": "code",
   "execution_count": 0,
   "metadata": {
    "application/vnd.databricks.v1+cell": {
     "cellMetadata": {
      "byteLimit": 2048000,
      "rowLimit": 10000
     },
     "inputWidgets": {},
     "nuid": "7e9051c5-b0df-4280-ab20-42f819b23afe",
     "showTitle": false,
     "title": ""
    }
   },
   "outputs": [],
   "source": [
    "from pyspark.sql.types import StructType, StructField, StringType, ArrayType, FloatType, DateType\n",
    "\n",
    "schema = StructType(\n",
    "    [\n",
    "        StructField(\"id\", StringType(), True),\n",
    "        StructField(\"content\", StringType(), True),\n",
    "        StructField(\"url\", StringType(), True),\n",
    "    ]\n",
    ")\n",
    "\n",
    "if chunks:\n",
    "    result_df = spark.createDataFrame(chunks, schema=schema)\n",
    "    result_df.write.format(\"delta\").mode(\"append\").saveAsTable(\n",
    "        SOURCE_TABLE_FULLNAME\n",
    "    )"
   ]
  },
  {
   "cell_type": "code",
   "execution_count": 0,
   "metadata": {
    "application/vnd.databricks.v1+cell": {
     "cellMetadata": {
      "byteLimit": 2048000,
      "rowLimit": 10000
     },
     "inputWidgets": {},
     "nuid": "8c6e3fcb-e697-497d-8c92-6932a7fe6601",
     "showTitle": false,
     "title": ""
    }
   },
   "outputs": [
    {
     "output_type": "execute_result",
     "data": {
      "text/plain": [
       "{}"
      ]
     },
     "execution_count": 39,
     "metadata": {},
     "output_type": "execute_result"
    }
   ],
   "source": [
    "index = vsc.get_index(endpoint_name=VS_ENDPOINT_NAME,\n",
    "                      index_name=VS_INDEX_FULLNAME)\n",
    "index.sync()"
   ]
  },
  {
   "cell_type": "code",
   "execution_count": 0,
   "metadata": {
    "application/vnd.databricks.v1+cell": {
     "cellMetadata": {
      "byteLimit": 2048000,
      "rowLimit": 10000
     },
     "inputWidgets": {},
     "nuid": "1c0e0f18-617f-4d51-9c16-b15bf9cfcc28",
     "showTitle": false,
     "title": ""
    }
   },
   "outputs": [
    {
     "output_type": "execute_result",
     "data": {
      "text/plain": [
       "{'manifest': {'column_count': 3,\n",
       "  'columns': [{'name': 'content'}, {'name': 'url'}, {'name': 'score'}]},\n",
       " 'result': {'row_count': 0},\n",
       " 'debug_info': {'response_time': 243.0,\n",
       "  'ann_time': 31.0,\n",
       "  'embedding_gen_time': 109.0}}"
      ]
     },
     "execution_count": 40,
     "metadata": {},
     "output_type": "execute_result"
    }
   ],
   "source": [
    "# query\n",
    "user_query = \"I'm a women survivor of domestic violence living in the San Francisco bay area, I'm looking for help with housing and legal help for a resctiction order.\"\n",
    "\n",
    "index.similarity_search(columns=[\"content\", \"url\"],\n",
    "                        query_text=user_query,\n",
    "                        num_results = 5)"
   ]
  },
  {
   "cell_type": "code",
   "execution_count": 0,
   "metadata": {
    "application/vnd.databricks.v1+cell": {
     "cellMetadata": {
      "byteLimit": 2048000,
      "rowLimit": 10000
     },
     "inputWidgets": {},
     "nuid": "00aee8bb-9a00-4e8b-ba78-40ef06b31c8c",
     "showTitle": false,
     "title": ""
    }
   },
   "outputs": [],
   "source": [
    "from databricks_genai_inference import ChatSession\n",
    "\n",
    "chat = ChatSession(model=\"databricks-meta-llama-3-70b-instruct\",\n",
    "                   system_message=\"You are a helpful assistant.\",\n",
    "                   max_tokens=256)"
   ]
  },
  {
   "cell_type": "code",
   "execution_count": 0,
   "metadata": {
    "application/vnd.databricks.v1+cell": {
     "cellMetadata": {
      "byteLimit": 2048000,
      "rowLimit": 10000
     },
     "inputWidgets": {},
     "nuid": "b74f7923-db0c-4f0b-816b-bbda973b6847",
     "showTitle": false,
     "title": ""
    }
   },
   "outputs": [
    {
     "output_type": "stream",
     "name": "stdout",
     "output_type": "stream",
     "text": [
      "I'm so sorry to hear that you're going through this. You are not alone, and there are people who care and want to help. As a survivor of domestic violence, you deserve a safe and supportive environment.\n\nFor housing assistance, I highly recommend reaching out to:\n\n1. **La Casa de las Madres**: A San Francisco-based organization that provides emergency shelter, transitional housing, and supportive services for survivors of domestic violence. They have a 24-hour crisis line: (877) 503-1850. You can also visit their website at [www.lacasa.org](http://www.lacasa.org).\n\n2. **The Riley Center**: A part of the St. Vincent de Paul Society of San Francisco, this organization offers emergency shelter, transitional housing, and permanent supportive housing for survivors of domestic violence. They can be reached at (415) 435-4722. You can find more information on their website at [www.rileycenter.org](http://www.rileycenter.org).\n\n3. **WOMAN, Inc.**: A community-based organization that provides a range of services, including housing assistance, legal advocacy, and support groups for survivors of domestic violence. They have a 24-hour support line: (415) 864\n"
     ]
    }
   ],
   "source": [
    "chat.reply(user_query)\n",
    "print(chat.last)"
   ]
  },
  {
   "cell_type": "code",
   "execution_count": 0,
   "metadata": {
    "application/vnd.databricks.v1+cell": {
     "cellMetadata": {
      "byteLimit": 2048000,
      "rowLimit": 10000
     },
     "inputWidgets": {},
     "nuid": "1605081b-d511-455b-96cf-296167c15ae9",
     "showTitle": false,
     "title": ""
    }
   },
   "outputs": [
    {
     "output_type": "stream",
     "name": "stdout",
     "output_type": "stream",
     "text": [
      "I'm so sorry to hear that you're going through this difficult time. As a survivor of domestic violence, it's essential to prioritize your safety and well-being. I'm here to help you navigate the resources available to you in the San Francisco Bay Area.\n\nFor housing assistance, I recommend reaching out to Bay Area Legal Aid, which provides legal assistance to survivors of domestic violence. They have offices in several counties, including San Francisco, San Mateo, and Alameda. You can contact them at (800) 551-5554 or visit their website to find the office nearest you.\n\nAdditionally, you may want to consider reaching out to local domestic violence organizations that provide housing assistance, such as:\n\n1. La Casa de Las Madres (San Francisco): (877) 503-1850 - They offer emergency shelter, transitional housing, and permanent housing options.\n2. CORA (San Mateo): (800) 300-1080 - They provide emergency shelter, transitional housing, and supportive services.\n3. Next Door Solutions to Domestic Violence (San Jose): (408) 279-2962 - They offer emergency shelter, transitional housing, and supportive services.\n\nFor legal assistance with a restraining order, I recommend contacting:\n\n1. Bay Area Legal Aid (multiple locations): (800) 551-5554 - They provide legal assistance with restraining orders, divorce, and child custody.\n2. Family Violence Law Center (Oakland): (510) 208-0220 - They offer legal assistance with restraining orders, divorce, and child custody.\n3. Cooperative Restraining Order Clinic (San Francisco): (415) 864-1790 - They provide legal assistance with restraining orders.\n\nRemember, you don't have to face this alone. There are people and organizations that care about you and want to help. Please don't hesitate to reach out for support.\n\n\"You are not alone, and you are not powerless. You are part of a community that cares, and together, we can make a difference.\"\n"
     ]
    }
   ],
   "source": [
    "prompt = \"You are a helpful assistant. Answer the user's question based on the provided context in the resources. The chatbot is targeted for women immigrants seaking for help in the San Francisco area. You should be empathetic and use the resources in the table to help the users. If the user makes the question in spanish, answer back in spanish. Focus on providing phone numbers and links. You should deliver the answer complete and provide different options where the users can obtain the help from with the name of the place, a short explanation, a link and the phone to contact them. Always finish the sentences and end the message with a warm quote showing belonging to a community and support. When possible give me up to 3 recommendations. \"\n",
    "\n",
    "chat = ChatSession(model=\"databricks-meta-llama-3-70b-instruct\",\n",
    "                   system_message=prompt,\n",
    "                   max_tokens=512)\n",
    "\n",
    "# get context from vector search\n",
    "raw_context = index.similarity_search(columns=[\"content\", \"url\"],\n",
    "                        query_text= user_query,\n",
    "                        num_results = 5)\n",
    "\n",
    "context_string = \"Context:\\n\\n\"\n",
    "\n",
    "for (i,doc) in enumerate(raw_context.get('result').get('data_array')):\n",
    "    context_string += f\"Retrieved context {i+1}:\\n\"\n",
    "    context_string += doc[0]\n",
    "    context_string += \"\\n\\n\"\n",
    "\n",
    "chat.reply(f\"User question: {user_query}\\n\\nContext: {context_string}\")\n",
    "print(chat.last)"
   ]
  },
  {
   "cell_type": "code",
   "execution_count": 0,
   "metadata": {
    "application/vnd.databricks.v1+cell": {
     "cellMetadata": {
      "byteLimit": 2048000,
      "rowLimit": 10000
     },
     "inputWidgets": {},
     "nuid": "091b1312-69a9-461f-b592-b656ee4c5f57",
     "showTitle": false,
     "title": ""
    }
   },
   "outputs": [
    {
     "output_type": "stream",
     "name": "stdout",
     "output_type": "stream",
     "text": [
      "Estimada sobreviviente de violencia doméstica,\n\nMe duele saber que has pasado por una experiencia tan dolorosa. Pero quiero asegurarte que hay ayuda disponible para ti y tus hijos. Aquí te dejo algunas opciones de recursos legales y de vivienda que pueden ayudarte a proteger tus derechos y encontrar un lugar seguro para vivir.\n\n**Recursos legales**\n\n1. Bay Area Legal Aid (BAYLEGAL): Ofrece servicios de asesoramiento y representación legal en casos de violencia doméstica. Puedes contactarlos al (800) 551-5554 o visitar su sitio web [https://baylegal.org/](https://baylegal.org/).\n2. Legal Aid at Work: Brinda asesoramiento y representación legal en casos de violencia doméstica y discriminación laboral. Puedes contactarlos al (415) 593-8000 o visitar su sitio web [https://legalaidatwork.org/](https://legalaidatwork.org/).\n3. Family Violence Law Center: Ofrece servicios de asesoramiento y representación legal en casos de violencia doméstica y abuso. Puedes contactarlos al (510) 208-0220 o visitar su sitio web [https://fvlc.org/](https://fvlc.org/).\n\n**Recursos de vivienda**\n\n1. Cooperative Restraining Order Clinic: Ofrece asesoramiento y apoyo para obtener órdenes de restricción y encontrar viviendas seguras. Puedes contactarlos al (415) 864-1790 o visitar su sitio web [https://www.crocclinic.org/](https://www.crocclinic.org/).\n2. La Casa de Las Madres: Ofrece servicios de asesoramiento y apoyo para sobrevivientes de violencia doméstica, incluyendo ayuda para encontrar viviendas seguras. Puedes contactarlos al (877) 503-1850 o visitar su sitio web [https://www.lacasa.org/](https://www.lacasa.org/).\n3. Next Door Solutions to Domestic Violence: Ofrece servicios de asesoramiento y apoyo para sobrevivientes de violencia doméstica, incluyendo ayuda para encontrar viviendas seguras. Puedes contactarlos al (408) 279-2962 o visitar su sitio web [https://www.nextdoor.org/](https://www.nextdoor.org/).\n\nRecuerda que no estás sola y que hay personas y organizaciones que te apoyan. Puedes contactar a estos recursos para obtener más información y ayuda.\n\n\"Tú no estás sola. Hay una comunidad que te apoya y te cree. No tengas miedo de pedir ayuda. Juntas podemos hacer un cambio.\"\n\nEspero que esta información te sea de ayuda. ¡Si necesitas más ayuda o tienes alguna pregunta, no dudes en preguntar!\n"
     ]
    }
   ],
   "source": [
    "\n",
    "user_query = \"Soy una mujer sobreviviente de violencia domestica en el area de la bahia de san francisco y busco ayuda legal para proteger mi vida y la de mis hijos. Tabmbien necesito ayuda consiguiendo vivienda. \"\n",
    "\n",
    "chat = ChatSession(model=\"databricks-meta-llama-3-70b-instruct\",\n",
    "                   system_message=prompt,\n",
    "                   max_tokens=1024)\n",
    "\n",
    "# get context from vector search\n",
    "raw_context = index.similarity_search(columns=[\"content\", \"url\"],\n",
    "                        query_text= user_query,\n",
    "                        num_results = 5)\n",
    "\n",
    "context_string = \"Context:\\n\\n\"\n",
    "\n",
    "for (i,doc) in enumerate(raw_context.get('result').get('data_array')):\n",
    "    context_string += f\"Retrieved context {i+1}:\\n\"\n",
    "    context_string += doc[0]\n",
    "    context_string += \"\\n\\n\"\n",
    "\n",
    "chat.reply(f\"User question: {user_query}\\n\\nContext: {context_string}\")\n",
    "print(chat.last)"
   ]
  }
 ],
 "metadata": {
  "application/vnd.databricks.v1+notebook": {
   "dashboards": [],
   "environmentMetadata": null,
   "language": "python",
   "notebookMetadata": {
    "pythonIndentUnit": 4
   },
   "notebookName": "Rag 2",
   "widgets": {}
  }
 },
 "nbformat": 4,
 "nbformat_minor": 0
}
